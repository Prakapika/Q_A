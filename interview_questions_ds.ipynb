{
 "cells": [
  {
   "cell_type": "code",
   "execution_count": null,
   "id": "38c26901",
   "metadata": {},
   "outputs": [],
   "source": [
    "1. What are Data Types?\n",
    "2. What does immutable mean and what three types of Python core data types are considered immutable?\n",
    "3. What does sequence mean and which three types of data fall into this category?\n",
    "4. Why are these data types known as Python’s core data types?\n",
    "5. What is Python Operator?\n",
    "6. What is Membership Python Operator?\n",
    "7. What is Python Identity Operator?\n",
    "8. What does != Mean in Python?\n",
    "9. What is not operator in Python?\n",
    "10. Explain Floor-Divide and Assign Operator in Python?\n",
    "11. What constitutes “True” in Python?\n",
    "12. How are if, elif, and else blocks defined?\n",
    "13. What are the comparison operators in Python?\n",
    "14. What are the three main conditional statements in Python?\n",
    "15. What keyword is used for looping?\n",
    "16. What keyword is used to skip back to the beginning of a loop?\n",
    "17. Name the 2 keywords used for looping?\n",
    "18. What are the key features of Python?\n",
    "19. How would you convert a string into lowercase?\n",
    "20. What is the pass statement in Python?"
   ]
  },
  {
   "cell_type": "code",
   "execution_count": null,
   "id": "cfe0ffdb",
   "metadata": {},
   "outputs": [],
   "source": []
  }
 ],
 "metadata": {
  "kernelspec": {
   "display_name": "Python 3 (ipykernel)",
   "language": "python",
   "name": "python3"
  },
  "language_info": {
   "codemirror_mode": {
    "name": "ipython",
    "version": 3
   },
   "file_extension": ".py",
   "mimetype": "text/x-python",
   "name": "python",
   "nbconvert_exporter": "python",
   "pygments_lexer": "ipython3",
   "version": "3.10.6"
  }
 },
 "nbformat": 4,
 "nbformat_minor": 5
}
